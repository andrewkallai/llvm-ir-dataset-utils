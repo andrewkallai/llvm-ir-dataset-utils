{
 "cells": [
  {
   "cell_type": "code",
   "execution_count": null,
   "metadata": {},
   "outputs": [],
   "source": [
    "%matplotlib inline\n",
    "from fitting_and_plotting import plot_instruction_counts_v_textseg, plot_instruction_counts_histograms\n",
    "from read_column import outlier_rows\n",
    "from IPython.display import HTML, display\n",
    "from pandas import read_csv\n",
    "\n",
    "langs = read_csv('../dataset_download/indices.csv')[\"language\"]\n",
    "#filter out a language\n",
    "#langs = [x for x in langs if x != \"julia\"]\n",
    "#location of CSV for each language\n",
    "CSV_STORAGE=\"\"\n"
   ]
  },
  {
   "cell_type": "code",
   "execution_count": null,
   "metadata": {},
   "outputs": [],
   "source": [
    "for i in langs:\n",
    "    plot_instruction_counts_histograms(i, CSV_STORAGE, show=True)"
   ]
  },
  {
   "cell_type": "code",
   "execution_count": null,
   "metadata": {},
   "outputs": [],
   "source": [
    "for i in langs:\n",
    "    plot_instruction_counts_v_textseg(i, CSV_STORAGE, show=True)"
   ]
  },
  {
   "cell_type": "code",
   "execution_count": null,
   "metadata": {},
   "outputs": [],
   "source": [
    "for i in langs:\n",
    "    display(HTML(outlier_rows(i, CSV_STORAGE).to_html(index=False)))"
   ]
  },
  {
   "cell_type": "code",
   "execution_count": null,
   "metadata": {},
   "outputs": [],
   "source": []
  }
 ],
 "metadata": {
  "kernelspec": {
   "display_name": "Python 3",
   "language": "python",
   "name": "python3"
  },
  "language_info": {
   "codemirror_mode": {
    "name": "ipython",
    "version": 3
   },
   "file_extension": ".py",
   "mimetype": "text/x-python",
   "name": "python",
   "nbconvert_exporter": "python",
   "pygments_lexer": "ipython3",
   "version": "3.7.0"
  }
 },
 "nbformat": 4,
 "nbformat_minor": 2
}
